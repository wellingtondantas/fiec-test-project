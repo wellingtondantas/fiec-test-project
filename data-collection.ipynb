{
 "cells": [
  {
   "cell_type": "code",
   "execution_count": 1,
   "id": "a1008909",
   "metadata": {},
   "outputs": [],
   "source": [
    "# Libs\n",
    "\n",
    "import os\n",
    "import requests\n",
    "import zipfile"
   ]
  },
  {
   "cell_type": "code",
   "execution_count": 2,
   "id": "aa36ea45",
   "metadata": {},
   "outputs": [],
   "source": [
    "# Settings\n",
    "\n",
    "path_zip = 'data/zip/'\n",
    "path_txt = 'data/txt/'\n",
    "\n",
    "if not os.path.exists(path_zip):\n",
    "    os.makedirs(path_zip)\n",
    "    \n",
    "if not os.path.exists(path_txt):\n",
    "    os.makedirs(path_txt)"
   ]
  },
  {
   "cell_type": "code",
   "execution_count": 3,
   "id": "54b2d8b6",
   "metadata": {},
   "outputs": [],
   "source": [
    "# Selected years\n",
    "\n",
    "years = [2019, 2020, 2021]"
   ]
  },
  {
   "cell_type": "code",
   "execution_count": 4,
   "id": "7d1129e2",
   "metadata": {},
   "outputs": [
    {
     "name": "stdout",
     "output_type": "stream",
     "text": [
      "CPU times: user 6.83 s, sys: 3.12 s, total: 9.95 s\n",
      "Wall time: 1min 4s\n"
     ]
    }
   ],
   "source": [
    "%%time\n",
    "\n",
    "# Script\n",
    "\n",
    "for i in years:\n",
    "    \n",
    "    data = requests.get(f'http://web.antaq.gov.br/Sistemas/ArquivosAnuario/Arquivos/{i}Atracacao.zip')\n",
    "    zfile = open(f'{path_zip}{i}Atracacao.zip', 'wb')\n",
    "    zfile.write(data.content)\n",
    "    zfile.close()\n",
    "    \n",
    "    with zipfile.ZipFile(f'{path_zip}{i}Atracacao.zip', 'r') as zipzip:\n",
    "        zipzip.extractall(f\"{path_txt}\")\n",
    "    \n",
    "    data = requests.get(f'http://web.antaq.gov.br/Sistemas/ArquivosAnuario/Arquivos/{i}Carga.zip')\n",
    "    zfile = open(f'{path_zip}{i}Carga.zip', 'wb')\n",
    "    zfile.write(data.content)\n",
    "    zfile.close()\n",
    "    \n",
    "    with zipfile.ZipFile(f'{path_zip}{i}Carga.zip', 'r') as zipzip:\n",
    "        zipzip.extractall(f\"{path_txt}\")"
   ]
  },
  {
   "cell_type": "code",
   "execution_count": null,
   "id": "7a589f48",
   "metadata": {},
   "outputs": [],
   "source": []
  },
  {
   "cell_type": "code",
   "execution_count": null,
   "id": "88b11b40",
   "metadata": {},
   "outputs": [],
   "source": []
  }
 ],
 "metadata": {
  "kernelspec": {
   "display_name": "Python 3 (ipykernel)",
   "language": "python",
   "name": "python3"
  },
  "language_info": {
   "codemirror_mode": {
    "name": "ipython",
    "version": 3
   },
   "file_extension": ".py",
   "mimetype": "text/x-python",
   "name": "python",
   "nbconvert_exporter": "python",
   "pygments_lexer": "ipython3",
   "version": "3.8.10"
  }
 },
 "nbformat": 4,
 "nbformat_minor": 5
}
