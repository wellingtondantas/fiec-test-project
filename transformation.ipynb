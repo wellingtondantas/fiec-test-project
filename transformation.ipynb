{
 "cells": [
  {
   "cell_type": "code",
   "execution_count": 1,
   "id": "8f9310b9",
   "metadata": {},
   "outputs": [],
   "source": [
    "# Libs\n",
    "\n",
    "import os\n",
    "import pyspark\n",
    "from pyspark.sql import SparkSession\n",
    "from pyspark.sql.functions import to_timestamp, regexp_replace\n",
    "from datetime import datetime\n",
    "\n",
    "import warnings\n",
    "warnings.filterwarnings('ignore')"
   ]
  },
  {
   "cell_type": "code",
   "execution_count": 2,
   "id": "1ac7d6c6",
   "metadata": {},
   "outputs": [
    {
     "name": "stderr",
     "output_type": "stream",
     "text": [
      "22/03/05 20:38:35 WARN Utils: Your hostname, DESKTOP-GO9KC4P resolves to a loopback address: 127.0.1.1; using 172.22.14.95 instead (on interface eth0)\n",
      "22/03/05 20:38:35 WARN Utils: Set SPARK_LOCAL_IP if you need to bind to another address\n",
      "Using Spark's default log4j profile: org/apache/spark/log4j-defaults.properties\n",
      "Setting default log level to \"WARN\".\n",
      "To adjust logging level use sc.setLogLevel(newLevel). For SparkR, use setLogLevel(newLevel).\n",
      "22/03/05 20:38:37 WARN NativeCodeLoader: Unable to load native-hadoop library for your platform... using builtin-java classes where applicable\n"
     ]
    }
   ],
   "source": [
    "# Instância o spark\n",
    "\n",
    "spark = SparkSession.builder.appName(\"ANTAQ\").getOrCreate()"
   ]
  },
  {
   "cell_type": "code",
   "execution_count": 3,
   "id": "b5700bcc",
   "metadata": {},
   "outputs": [
    {
     "name": "stdout",
     "output_type": "stream",
     "text": [
      "2019Atracacao.txt  2020Atracacao.txt  2021Atracacao.txt\r\n",
      "2019Carga.txt\t   2020Carga.txt      2021Carga.txt\r\n"
     ]
    }
   ],
   "source": [
    "# Verifica os arquivos de consumo\n",
    "\n",
    "!ls data/txt"
   ]
  },
  {
   "cell_type": "code",
   "execution_count": 4,
   "id": "f126178b",
   "metadata": {},
   "outputs": [],
   "source": [
    "# Parâmetros\n",
    "\n",
    "path_txt = 'data/txt/'\n",
    "path_csv = 'data/csv/'\n",
    "\n",
    "years = [2019, 2020, 2021]\n",
    "\n",
    "if not os.path.exists(path_csv):\n",
    "    os.makedirs(path_csv)"
   ]
  },
  {
   "cell_type": "markdown",
   "id": "7e068f57",
   "metadata": {},
   "source": [
    "## atracacao_fato"
   ]
  },
  {
   "cell_type": "code",
   "execution_count": 5,
   "id": "5e652250",
   "metadata": {},
   "outputs": [
    {
     "name": "stderr",
     "output_type": "stream",
     "text": [
      "                                                                                \r"
     ]
    }
   ],
   "source": [
    "# Uni as bases de dados\n",
    "\n",
    "df = []\n",
    "for i in years:\n",
    "    df.append(spark.read.options(header='True', inferSchema='True', delimiter=';').csv(f'{path_txt}{i}Atracacao.txt'))\n",
    "    \n",
    "dfA = df[0]\n",
    "    \n",
    "for i in df[1:]:\n",
    "    dfA = dfA.union(i)"
   ]
  },
  {
   "cell_type": "code",
   "execution_count": 6,
   "id": "b7441220",
   "metadata": {},
   "outputs": [
    {
     "name": "stdout",
     "output_type": "stream",
     "text": [
      "232230\n",
      "root\n",
      " |-- IDAtracacao: integer (nullable = true)\n",
      " |-- CDTUP: string (nullable = true)\n",
      " |-- IDBerco: string (nullable = true)\n",
      " |-- Berço: string (nullable = true)\n",
      " |-- Porto Atracação: string (nullable = true)\n",
      " |-- Apelido Instalação Portuária: string (nullable = true)\n",
      " |-- Complexo Portuário: string (nullable = true)\n",
      " |-- Tipo da Autoridade Portuária: string (nullable = true)\n",
      " |-- Data Atracação: string (nullable = true)\n",
      " |-- Data Chegada: string (nullable = true)\n",
      " |-- Data Desatracação: string (nullable = true)\n",
      " |-- Data Início Operação: string (nullable = true)\n",
      " |-- Data Término Operação: string (nullable = true)\n",
      " |-- Ano: integer (nullable = true)\n",
      " |-- Mes: string (nullable = true)\n",
      " |-- Tipo de Operação: string (nullable = true)\n",
      " |-- Tipo de Navegação da Atracação: string (nullable = true)\n",
      " |-- Nacionalidade do Armador: integer (nullable = true)\n",
      " |-- FlagMCOperacaoAtracacao: integer (nullable = true)\n",
      " |-- Terminal: string (nullable = true)\n",
      " |-- Município: string (nullable = true)\n",
      " |-- UF: string (nullable = true)\n",
      " |-- SGUF: string (nullable = true)\n",
      " |-- Região Geográfica: string (nullable = true)\n",
      " |-- Nº da Capitania: string (nullable = true)\n",
      " |-- Nº do IMO: integer (nullable = true)\n",
      "\n"
     ]
    }
   ],
   "source": [
    "# Verifica schema atual\n",
    "\n",
    "print(dfA.count())\n",
    "\n",
    "dfA.printSchema()"
   ]
  },
  {
   "cell_type": "markdown",
   "id": "718ba802",
   "metadata": {},
   "source": [
    "## Gabarito da Atracação\n",
    "\n",
    "Ano -> Ano da data de início da operação\n",
    "\n",
    "Mes -> Mês da data de início da operação\n",
    "\n",
    "TEsperaAtracacao <-  Data Atracação - Data Chegada\n",
    "\n",
    "TEsperaInicioOp <- Data Início Operação - Data Atracação \n",
    "\n",
    "TOperacao <- Data Término Operação - Data Início Operação\n",
    "\n",
    "TEsperaDesatracacao <- Data Desatracação - Data Término Operação\n",
    "\n",
    "TAtracado <- TEsperaInicioOp + TOperacao + TEsperaDesatracacao (Data Desatracação - Data Atracação)\n",
    "\n",
    "TEstadia <- TEsperaAtracacao + TEsperaInicioOp + TOperacao + TEsperaDesatracacao (Data Desatracação - Data Chegada)"
   ]
  },
  {
   "cell_type": "code",
   "execution_count": 7,
   "id": "64c913c2",
   "metadata": {},
   "outputs": [],
   "source": [
    "# Muda nome de coluna\n",
    "\n",
    "dfA = dfA.withColumnRenamed('Ano', 'Ano da data de início da operação')\\\n",
    "             .withColumnRenamed('Mes', \"Mês da data de início da operação\")"
   ]
  },
  {
   "cell_type": "code",
   "execution_count": 8,
   "id": "c3cdca58",
   "metadata": {},
   "outputs": [
    {
     "name": "stdout",
     "output_type": "stream",
     "text": [
      "root\n",
      " |-- IDAtracacao: integer (nullable = true)\n",
      " |-- CDTUP: string (nullable = true)\n",
      " |-- IDBerco: string (nullable = true)\n",
      " |-- Berço: string (nullable = true)\n",
      " |-- Porto Atracação: string (nullable = true)\n",
      " |-- Apelido Instalação Portuária: string (nullable = true)\n",
      " |-- Complexo Portuário: string (nullable = true)\n",
      " |-- Tipo da Autoridade Portuária: string (nullable = true)\n",
      " |-- Data Atracação: timestamp (nullable = true)\n",
      " |-- Data Chegada: timestamp (nullable = true)\n",
      " |-- Data Desatracação: timestamp (nullable = true)\n",
      " |-- Data Início Operação: timestamp (nullable = true)\n",
      " |-- Data Término Operação: timestamp (nullable = true)\n",
      " |-- Ano da data de início da operação: integer (nullable = true)\n",
      " |-- Mês da data de início da operação: string (nullable = true)\n",
      " |-- Tipo de Operação: string (nullable = true)\n",
      " |-- Tipo de Navegação da Atracação: string (nullable = true)\n",
      " |-- Nacionalidade do Armador: integer (nullable = true)\n",
      " |-- FlagMCOperacaoAtracacao: integer (nullable = true)\n",
      " |-- Terminal: string (nullable = true)\n",
      " |-- Município: string (nullable = true)\n",
      " |-- UF: string (nullable = true)\n",
      " |-- SGUF: string (nullable = true)\n",
      " |-- Região Geográfica: string (nullable = true)\n",
      " |-- Nº da Capitania: string (nullable = true)\n",
      " |-- Nº do IMO: integer (nullable = true)\n",
      "\n"
     ]
    }
   ],
   "source": [
    "# Converte de string para timestamp\n",
    "\n",
    "columns = [\"Data Atracação\", \"Data Chegada\", \"Data Desatracação\", \"Data Início Operação\", \"Data Término Operação\"]\n",
    "\n",
    "for i in columns:\n",
    "    dfA = dfA.withColumn(i,to_timestamp(i, 'dd/MM/yyyy HH:mm:ss').alias(i))\n",
    "    \n",
    "dfA.printSchema()"
   ]
  },
  {
   "cell_type": "code",
   "execution_count": 9,
   "id": "2e6004ab",
   "metadata": {},
   "outputs": [],
   "source": [
    "# Cria colunas com demandas solicitadas em Horas (Verificar o parâmetro de tempo)\n",
    "\n",
    "dfA = dfA.withColumn('TEsperaAtracacao',(dfA['Data Atracação'].cast('long') - dfA['Data Chegada'].cast('long'))/3600)\n",
    "\n",
    "dfA = dfA.withColumn('TEsperaInicioOp',(dfA['Data Início Operação'].cast('long') - dfA['Data Atracação'].cast('long'))/3600)\n",
    "\n",
    "dfA = dfA.withColumn('TOperacao',(dfA['Data Término Operação'].cast('long') - dfA['Data Início Operação'].cast('long'))/3600)\n",
    "\n",
    "dfA = dfA.withColumn('TEsperaDesatracacao',(dfA['Data Desatracação'].cast('long') - dfA['Data Término Operação'].cast('long'))/3600)\n",
    "\n",
    "dfA = dfA.withColumn('TAtracado',(dfA['Data Desatracação'].cast('long') - dfA['Data Atracação'].cast('long'))/3600)\n",
    "\n",
    "dfA = dfA.withColumn('TEstadia',(dfA['Data Desatracação'].cast('long') - dfA['Data Chegada'].cast('long'))/3600)"
   ]
  },
  {
   "cell_type": "code",
   "execution_count": 10,
   "id": "19a36039",
   "metadata": {},
   "outputs": [
    {
     "name": "stdout",
     "output_type": "stream",
     "text": [
      "+-------------------+-------------------+-------------------+--------------------+---------------------+\n",
      "|     Data Atracação|       Data Chegada|  Data Desatracação|Data Início Operação|Data Término Operação|\n",
      "+-------------------+-------------------+-------------------+--------------------+---------------------+\n",
      "|2019-10-28 08:30:00|2019-10-28 08:15:00|2019-10-28 11:30:00|                null|                 null|\n",
      "|2019-11-26 07:40:00|2019-11-26 06:55:00|2019-11-26 10:36:00|                null|                 null|\n",
      "|2019-11-12 08:15:00|2019-11-12 07:00:00|2019-11-15 15:00:00|                null|                 null|\n",
      "|2019-09-24 08:50:00|2019-09-24 08:00:00|2019-09-24 17:00:00|                null|                 null|\n",
      "|2019-02-09 13:45:00|2019-02-09 12:20:00|2019-02-11 09:10:00|                null|                 null|\n",
      "|2019-02-01 07:50:00|2019-02-01 07:00:00|2019-02-04 10:10:00| 2019-02-01 07:51:00|  2019-02-04 10:00:00|\n",
      "|2019-03-15 09:50:00|2019-03-15 09:10:00|2019-03-18 10:40:00|                null|                 null|\n",
      "|2019-11-12 10:40:00|2019-11-12 10:00:00|2019-11-15 13:20:00|                null|                 null|\n",
      "|2019-07-22 10:00:00|2019-07-11 17:30:00|2019-07-24 10:50:00|                null|                 null|\n",
      "|2019-09-27 14:30:00|2019-09-27 14:00:00|2019-10-01 12:00:00| 2019-09-27 14:35:00|  2019-10-01 11:50:00|\n",
      "+-------------------+-------------------+-------------------+--------------------+---------------------+\n",
      "only showing top 10 rows\n",
      "\n"
     ]
    }
   ],
   "source": [
    "# Verifica os campos existentes\n",
    "\n",
    "dfA.select(['Data Atracação', 'Data Chegada', 'Data Desatracação', 'Data Início Operação', 'Data Término Operação']).show(10)"
   ]
  },
  {
   "cell_type": "code",
   "execution_count": 11,
   "id": "ff16cde0",
   "metadata": {},
   "outputs": [
    {
     "name": "stdout",
     "output_type": "stream",
     "text": [
      "+------------------+--------------------+---------+-------------------+------------------+------------------+\n",
      "|  TEsperaAtracacao|     TEsperaInicioOp|TOperacao|TEsperaDesatracacao|         TAtracado|          TEstadia|\n",
      "+------------------+--------------------+---------+-------------------+------------------+------------------+\n",
      "|              0.25|                null|     null|               null|               3.0|              3.25|\n",
      "|              0.75|                null|     null|               null| 2.933333333333333| 3.683333333333333|\n",
      "|              1.25|                null|     null|               null|             78.75|              80.0|\n",
      "|0.8333333333333334|                null|     null|               null| 8.166666666666666|               9.0|\n",
      "|1.4166666666666667|                null|     null|               null|43.416666666666664|44.833333333333336|\n",
      "|0.8333333333333334|0.016666666666666666|    74.15|0.16666666666666666| 74.33333333333333| 75.16666666666667|\n",
      "|0.6666666666666666|                null|     null|               null| 72.83333333333333|              73.5|\n",
      "|0.6666666666666666|                null|     null|               null| 74.66666666666667| 75.33333333333333|\n",
      "|             256.5|                null|     null|               null|48.833333333333336| 305.3333333333333|\n",
      "|               0.5| 0.08333333333333333|    93.25|0.16666666666666666|              93.5|              94.0|\n",
      "+------------------+--------------------+---------+-------------------+------------------+------------------+\n",
      "only showing top 10 rows\n",
      "\n"
     ]
    }
   ],
   "source": [
    "# Verifica os campos criados\n",
    "\n",
    "dfA.select(['TEsperaAtracacao', 'TEsperaInicioOp', 'TOperacao', 'TEsperaDesatracacao', 'TAtracado', 'TEstadia']).show(10)"
   ]
  },
  {
   "cell_type": "code",
   "execution_count": 12,
   "id": "979adf5b",
   "metadata": {},
   "outputs": [
    {
     "name": "stdout",
     "output_type": "stream",
     "text": [
      "root\n",
      " |-- IDAtracacao: integer (nullable = true)\n",
      " |-- CDTUP: string (nullable = true)\n",
      " |-- IDBerco: string (nullable = true)\n",
      " |-- Berço: string (nullable = true)\n",
      " |-- Porto Atracação: string (nullable = true)\n",
      " |-- Apelido Instalação Portuária: string (nullable = true)\n",
      " |-- Complexo Portuário: string (nullable = true)\n",
      " |-- Tipo da Autoridade Portuária: string (nullable = true)\n",
      " |-- Data Atracação: timestamp (nullable = true)\n",
      " |-- Data Chegada: timestamp (nullable = true)\n",
      " |-- Data Desatracação: timestamp (nullable = true)\n",
      " |-- Data Início Operação: timestamp (nullable = true)\n",
      " |-- Data Término Operação: timestamp (nullable = true)\n",
      " |-- Ano da data de início da operação: integer (nullable = true)\n",
      " |-- Mês da data de início da operação: string (nullable = true)\n",
      " |-- Tipo de Operação: string (nullable = true)\n",
      " |-- Tipo de Navegação da Atracação: string (nullable = true)\n",
      " |-- Nacionalidade do Armador: integer (nullable = true)\n",
      " |-- FlagMCOperacaoAtracacao: integer (nullable = true)\n",
      " |-- Terminal: string (nullable = true)\n",
      " |-- Município: string (nullable = true)\n",
      " |-- UF: string (nullable = true)\n",
      " |-- SGUF: string (nullable = true)\n",
      " |-- Região Geográfica: string (nullable = true)\n",
      " |-- Nº da Capitania: string (nullable = true)\n",
      " |-- Nº do IMO: integer (nullable = true)\n",
      " |-- TEsperaAtracacao: double (nullable = true)\n",
      " |-- TEsperaInicioOp: double (nullable = true)\n",
      " |-- TOperacao: double (nullable = true)\n",
      " |-- TEsperaDesatracacao: double (nullable = true)\n",
      " |-- TAtracado: double (nullable = true)\n",
      " |-- TEstadia: double (nullable = true)\n",
      "\n"
     ]
    }
   ],
   "source": [
    "# Última verificação antes do salvamento (Verificar se é necessário o tratamento de valores faltantes)\n",
    "\n",
    "dfA.printSchema()"
   ]
  },
  {
   "cell_type": "code",
   "execution_count": 13,
   "id": "407a6f48",
   "metadata": {},
   "outputs": [
    {
     "name": "stderr",
     "output_type": "stream",
     "text": [
      "22/03/05 20:38:49 WARN package: Truncated the string representation of a plan since it was too large. This behavior can be adjusted by setting 'spark.sql.debug.maxToStringFields'.\n",
      "                                                                                \r"
     ]
    }
   ],
   "source": [
    "# Salva dataframe (atracacao_fato) em spark\n",
    "\n",
    "dfA.write.option(\"header\",True).csv(f\"{path_csv}atracacao_fato.csv\")"
   ]
  },
  {
   "cell_type": "code",
   "execution_count": 14,
   "id": "364e7305",
   "metadata": {},
   "outputs": [],
   "source": [
    "# Carrega o dataframe spark\n",
    "\n",
    "dfA = spark.read.format(\"csv\").option(\"header\",\"true\").load(\"data/csv/atracacao_fato.csv\")"
   ]
  },
  {
   "cell_type": "markdown",
   "id": "7eae86fc",
   "metadata": {},
   "source": [
    "# carga_fato"
   ]
  },
  {
   "cell_type": "code",
   "execution_count": 16,
   "id": "c904f206",
   "metadata": {},
   "outputs": [
    {
     "name": "stderr",
     "output_type": "stream",
     "text": [
      "                                                                                \r"
     ]
    }
   ],
   "source": [
    "# Uni as bases de dados\n",
    "\n",
    "df = []\n",
    "for i in years:\n",
    "    df.append(spark.read.options(header='True', inferSchema='True', delimiter=';').csv(f'{path_txt}{i}Carga.txt'))\n",
    "    \n",
    "dfC = df[0]\n",
    "    \n",
    "for i in df[1:]:\n",
    "    dfC = dfC.union(i)"
   ]
  },
  {
   "cell_type": "code",
   "execution_count": 17,
   "id": "dac0d6a8",
   "metadata": {},
   "outputs": [
    {
     "name": "stderr",
     "output_type": "stream",
     "text": [
      "\r",
      "[Stage 25:====================>                                  (18 + 16) / 48]\r",
      "\r",
      "[Stage 25:====================================>                  (32 + 16) / 48]\r"
     ]
    },
    {
     "name": "stdout",
     "output_type": "stream",
     "text": [
      "6479100\n",
      "root\n",
      " |-- IDCarga: integer (nullable = true)\n",
      " |-- IDAtracacao: integer (nullable = true)\n",
      " |-- Origem: string (nullable = true)\n",
      " |-- Destino: string (nullable = true)\n",
      " |-- CDMercadoria: string (nullable = true)\n",
      " |-- Tipo Operação da Carga: string (nullable = true)\n",
      " |-- Carga Geral Acondicionamento: string (nullable = true)\n",
      " |-- ConteinerEstado: string (nullable = true)\n",
      " |-- Tipo Navegação: string (nullable = true)\n",
      " |-- FlagAutorizacao: string (nullable = true)\n",
      " |-- FlagCabotagem: integer (nullable = true)\n",
      " |-- FlagCabotagemMovimentacao: integer (nullable = true)\n",
      " |-- FlagConteinerTamanho: string (nullable = true)\n",
      " |-- FlagLongoCurso: integer (nullable = true)\n",
      " |-- FlagMCOperacaoCarga: integer (nullable = true)\n",
      " |-- FlagOffshore: integer (nullable = true)\n",
      " |-- FlagTransporteViaInterioir: integer (nullable = true)\n",
      " |-- Percurso Transporte em vias Interiores: string (nullable = true)\n",
      " |-- Percurso Transporte Interiores: string (nullable = true)\n",
      " |-- STNaturezaCarga: string (nullable = true)\n",
      " |-- STSH2: string (nullable = true)\n",
      " |-- STSH4: string (nullable = true)\n",
      " |-- Natureza da Carga: string (nullable = true)\n",
      " |-- Sentido: string (nullable = true)\n",
      " |-- TEU: string (nullable = true)\n",
      " |-- QTCarga: integer (nullable = true)\n",
      " |-- VLPesoCargaBruta: string (nullable = true)\n",
      "\n"
     ]
    },
    {
     "name": "stderr",
     "output_type": "stream",
     "text": [
      "\r",
      "                                                                                \r"
     ]
    }
   ],
   "source": [
    "# Verifica schema atual\n",
    "\n",
    "print(dfC.count())\n",
    "\n",
    "dfC.printSchema()"
   ]
  },
  {
   "cell_type": "markdown",
   "id": "4ee6638f",
   "metadata": {},
   "source": [
    "## Gabarito da Carga\n",
    "\n",
    "Ano da data de início da operação da atracação <- join do atracacao_fato\n",
    "\n",
    "Mês da data de início da operação da atracação <- join do atracacao_fato\n",
    "\n",
    "Porto Atracação <- join do atracacao_fato\n",
    "\n",
    "SGUF <- join do atracacao_fato\n",
    "\n",
    "Peso líquido da carga"
   ]
  },
  {
   "cell_type": "code",
   "execution_count": 18,
   "id": "d1174239",
   "metadata": {},
   "outputs": [],
   "source": [
    "# Realiza o join com as caracteristicas solicitadas\n",
    "\n",
    "dfC = dfC.join(dfA, dfC.IDAtracacao == dfA.IDAtracacao).select(dfC[\"*\"], dfA[\"Ano da data de início da operação\"], dfA[\"Mês da data de início da operação\"], dfA[\"Porto Atracação\"], dfA[\"SGUF\"])"
   ]
  },
  {
   "cell_type": "code",
   "execution_count": 19,
   "id": "eb132d74",
   "metadata": {},
   "outputs": [
    {
     "name": "stderr",
     "output_type": "stream",
     "text": [
      "[Stage 29:====================================>                  (32 + 16) / 48]\r"
     ]
    },
    {
     "name": "stdout",
     "output_type": "stream",
     "text": [
      "6479100\n",
      "root\n",
      " |-- IDCarga: integer (nullable = true)\n",
      " |-- IDAtracacao: integer (nullable = true)\n",
      " |-- Origem: string (nullable = true)\n",
      " |-- Destino: string (nullable = true)\n",
      " |-- CDMercadoria: string (nullable = true)\n",
      " |-- Tipo Operação da Carga: string (nullable = true)\n",
      " |-- Carga Geral Acondicionamento: string (nullable = true)\n",
      " |-- ConteinerEstado: string (nullable = true)\n",
      " |-- Tipo Navegação: string (nullable = true)\n",
      " |-- FlagAutorizacao: string (nullable = true)\n",
      " |-- FlagCabotagem: integer (nullable = true)\n",
      " |-- FlagCabotagemMovimentacao: integer (nullable = true)\n",
      " |-- FlagConteinerTamanho: string (nullable = true)\n",
      " |-- FlagLongoCurso: integer (nullable = true)\n",
      " |-- FlagMCOperacaoCarga: integer (nullable = true)\n",
      " |-- FlagOffshore: integer (nullable = true)\n",
      " |-- FlagTransporteViaInterioir: integer (nullable = true)\n",
      " |-- Percurso Transporte em vias Interiores: string (nullable = true)\n",
      " |-- Percurso Transporte Interiores: string (nullable = true)\n",
      " |-- STNaturezaCarga: string (nullable = true)\n",
      " |-- STSH2: string (nullable = true)\n",
      " |-- STSH4: string (nullable = true)\n",
      " |-- Natureza da Carga: string (nullable = true)\n",
      " |-- Sentido: string (nullable = true)\n",
      " |-- TEU: string (nullable = true)\n",
      " |-- QTCarga: integer (nullable = true)\n",
      " |-- VLPesoCargaBruta: string (nullable = true)\n",
      " |-- Ano da data de início da operação: string (nullable = true)\n",
      " |-- Mês da data de início da operação: string (nullable = true)\n",
      " |-- Porto Atracação: string (nullable = true)\n",
      " |-- SGUF: string (nullable = true)\n",
      "\n"
     ]
    },
    {
     "name": "stderr",
     "output_type": "stream",
     "text": [
      "\r",
      "                                                                                \r"
     ]
    }
   ],
   "source": [
    "# Verifica novo schema de contagem de amostras \n",
    "\n",
    "print(dfC.count())\n",
    "\n",
    "dfC.printSchema()"
   ]
  },
  {
   "cell_type": "code",
   "execution_count": 20,
   "id": "0f1182eb",
   "metadata": {},
   "outputs": [
    {
     "name": "stdout",
     "output_type": "stream",
     "text": [
      "+----------------+\n",
      "|VLPesoCargaBruta|\n",
      "+----------------+\n",
      "|         330,905|\n",
      "|          27,552|\n",
      "|          26,036|\n",
      "|             672|\n",
      "|          27,552|\n",
      "|           100,6|\n",
      "|           25,92|\n",
      "|          192,03|\n",
      "|           235,2|\n",
      "|              37|\n",
      "|           12,98|\n",
      "|           42,24|\n",
      "|           48,51|\n",
      "|          34,465|\n",
      "|           1,843|\n",
      "|            1145|\n",
      "|          1335,9|\n",
      "|            1527|\n",
      "|           52,78|\n",
      "|             501|\n",
      "+----------------+\n",
      "only showing top 20 rows\n",
      "\n"
     ]
    }
   ],
   "source": [
    "# Verifica estrutura da coluna\n",
    "\n",
    "dfC.select('VLPesoCargaBruta').show()"
   ]
  },
  {
   "cell_type": "code",
   "execution_count": 21,
   "id": "f91f19eb",
   "metadata": {},
   "outputs": [],
   "source": [
    "# Converte de string para float\n",
    "\n",
    "dfC = dfC.withColumn('VLPesoCargaBruta', regexp_replace(\"VLPesoCargaBruta\", r'[,]',\".\"))\n",
    "\n",
    "dfC = dfC.withColumn('VLPesoCargaBruta', dfC[\"VLPesoCargaBruta\"].cast('float').alias(\"VLPesoCargaBruta\"))"
   ]
  },
  {
   "cell_type": "code",
   "execution_count": 22,
   "id": "e272adcb",
   "metadata": {},
   "outputs": [
    {
     "name": "stdout",
     "output_type": "stream",
     "text": [
      "root\n",
      " |-- IDCarga: integer (nullable = true)\n",
      " |-- IDAtracacao: integer (nullable = true)\n",
      " |-- Origem: string (nullable = true)\n",
      " |-- Destino: string (nullable = true)\n",
      " |-- CDMercadoria: string (nullable = true)\n",
      " |-- Tipo Operação da Carga: string (nullable = true)\n",
      " |-- Carga Geral Acondicionamento: string (nullable = true)\n",
      " |-- ConteinerEstado: string (nullable = true)\n",
      " |-- Tipo Navegação: string (nullable = true)\n",
      " |-- FlagAutorizacao: string (nullable = true)\n",
      " |-- FlagCabotagem: integer (nullable = true)\n",
      " |-- FlagCabotagemMovimentacao: integer (nullable = true)\n",
      " |-- FlagConteinerTamanho: string (nullable = true)\n",
      " |-- FlagLongoCurso: integer (nullable = true)\n",
      " |-- FlagMCOperacaoCarga: integer (nullable = true)\n",
      " |-- FlagOffshore: integer (nullable = true)\n",
      " |-- FlagTransporteViaInterioir: integer (nullable = true)\n",
      " |-- Percurso Transporte em vias Interiores: string (nullable = true)\n",
      " |-- Percurso Transporte Interiores: string (nullable = true)\n",
      " |-- STNaturezaCarga: string (nullable = true)\n",
      " |-- STSH2: string (nullable = true)\n",
      " |-- STSH4: string (nullable = true)\n",
      " |-- Natureza da Carga: string (nullable = true)\n",
      " |-- Sentido: string (nullable = true)\n",
      " |-- TEU: string (nullable = true)\n",
      " |-- QTCarga: integer (nullable = true)\n",
      " |-- VLPesoCargaBruta: float (nullable = true)\n",
      " |-- Ano da data de início da operação: string (nullable = true)\n",
      " |-- Mês da data de início da operação: string (nullable = true)\n",
      " |-- Porto Atracação: string (nullable = true)\n",
      " |-- SGUF: string (nullable = true)\n",
      "\n"
     ]
    }
   ],
   "source": [
    "dfC.printSchema()"
   ]
  },
  {
   "cell_type": "code",
   "execution_count": 23,
   "id": "a4aef15e",
   "metadata": {},
   "outputs": [
    {
     "name": "stdout",
     "output_type": "stream",
     "text": [
      "+----------------+\n",
      "|VLPesoCargaBruta|\n",
      "+----------------+\n",
      "|         330.905|\n",
      "|          27.552|\n",
      "|          26.036|\n",
      "|           672.0|\n",
      "|          27.552|\n",
      "|           100.6|\n",
      "|           25.92|\n",
      "|          192.03|\n",
      "|           235.2|\n",
      "|            37.0|\n",
      "|           12.98|\n",
      "|           42.24|\n",
      "|           48.51|\n",
      "|          34.465|\n",
      "|           1.843|\n",
      "|          1145.0|\n",
      "|          1335.9|\n",
      "|          1527.0|\n",
      "|           52.78|\n",
      "|           501.0|\n",
      "+----------------+\n",
      "only showing top 20 rows\n",
      "\n"
     ]
    }
   ],
   "source": [
    "dfC.select('VLPesoCargaBruta').show()\n"
   ]
  }
 ],
 "metadata": {
  "kernelspec": {
   "display_name": "Python 3 (ipykernel)",
   "language": "python",
   "name": "python3"
  },
  "language_info": {
   "codemirror_mode": {
    "name": "ipython",
    "version": 3
   },
   "file_extension": ".py",
   "mimetype": "text/x-python",
   "name": "python",
   "nbconvert_exporter": "python",
   "pygments_lexer": "ipython3",
   "version": "3.8.10"
  }
 },
 "nbformat": 4,
 "nbformat_minor": 5
}
